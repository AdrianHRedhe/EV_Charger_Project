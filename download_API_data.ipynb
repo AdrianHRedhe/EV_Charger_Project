{
 "cells": [
  {
   "cell_type": "code",
   "execution_count": 1,
   "metadata": {},
   "outputs": [],
   "source": [
    "import requests\n",
    "import pandas as pd\n",
    "import geojson\n",
    "from shapely.geometry import shape\n",
    "from shapely.geometry import Point\n",
    "import json as js\n",
    "\n",
    "from dotenv import load_dotenv\n",
    "import os"
   ]
  },
  {
   "cell_type": "markdown",
   "metadata": {},
   "source": [
    "Here we use a .env file to ensure that the API key does not go public  \n",
    "However, the API is free to use, you just have to apply [here](https://info.nobil.no/api) to get  \n",
    "the key. If you don't want to apply there is also a client test of the  \n",
    "api [here](https://www.nobil.no/api/client/search_apiVer3.php)"
   ]
  },
  {
   "cell_type": "code",
   "execution_count": 2,
   "metadata": {},
   "outputs": [],
   "source": [
    "# Collect the api key\n",
    "load_dotenv()\n",
    "\n",
    "API_KEY = os.environ.get('API_KEY')"
   ]
  },
  {
   "cell_type": "code",
   "execution_count": 3,
   "metadata": {},
   "outputs": [],
   "source": [
    "def get_api_data(ne,sw,API_KEY):\n",
    "    url = 'https://nobil.no/api/server/search.php?mode=ajax'\n",
    "    post_data = { 'apikey': f'{API_KEY}', 'apiversion': '3',\n",
    "    'action': \"search\",\n",
    "    'type': 'rectangle',\n",
    "    'northeast': f'{ne}',\n",
    "    'southwest': f'{sw}'}\n",
    "    return requests.post(url, data=post_data)\n",
    "\n",
    "def json_to_file(file,filename):\n",
    "    with open(f\"{filename}.json\", \"w\") as write_file:\n",
    "        js.dump(file, write_file)"
   ]
  },
  {
   "cell_type": "code",
   "execution_count": 4,
   "metadata": {},
   "outputs": [],
   "source": [
    "# Ne stands for the coordinates to the northeast most point where you want to search\n",
    "# Sw stands for the southwestern most point you want to search.\n",
    "# Together they form a square where you ask the API to send back data\n",
    "ne = 59.943921193288915, 10.826683044433594\n",
    "sw = 59.883683240905256, 10.650901794433594\n",
    "\n",
    "r = get_api_data(ne,sw,API_KEY)\n",
    "jsonFile = r.json()\n",
    "json_to_file(jsonFile,'example_data')"
   ]
  }
 ],
 "metadata": {
  "kernelspec": {
   "display_name": "kth",
   "language": "python",
   "name": "python3"
  },
  "language_info": {
   "codemirror_mode": {
    "name": "ipython",
    "version": 3
   },
   "file_extension": ".py",
   "mimetype": "text/x-python",
   "name": "python",
   "nbconvert_exporter": "python",
   "pygments_lexer": "ipython3",
   "version": "3.10.4"
  },
  "orig_nbformat": 4
 },
 "nbformat": 4,
 "nbformat_minor": 2
}
