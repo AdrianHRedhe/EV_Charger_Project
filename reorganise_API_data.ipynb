{
 "cells": [
  {
   "cell_type": "code",
   "execution_count": 1,
   "metadata": {},
   "outputs": [],
   "source": [
    "import json as js\n",
    "import pandas as pd\n",
    "import os"
   ]
  },
  {
   "cell_type": "markdown",
   "metadata": {},
   "source": [
    "#### General understanding about the example data\n",
    "Lets first have a look at the data. From the example file, we  \n",
    "can see that the data is structured like this. Chargerstations  \n",
    "contains all the `chargingstations` that were found in the search.  \n",
    "\n",
    "For each charger station there are to types of information.  \n",
    "In `csmd` there is metadata on the charginstation such as the location,  \n",
    "country, ID of the charger and the number of connectors it has.  \n",
    "\n",
    "In `attr` there is some metadata that applies to all connectors in `st`  \n",
    "such as if it gives realtime data, or if it is publicly available.  \n",
    "There is also metadata on every connector that the charger has in `conn`.  \n",
    "Such as if it is available, if it is a public connector, if it has a  \n",
    "fixed cable or not.\n",
    "\n",
    "The goal is to first define what data we want from every connector  \n",
    "(conn) and every charging station (cs) and then create a common  \n",
    "database with all of this information."
   ]
  },
  {
   "cell_type": "code",
   "execution_count": 2,
   "metadata": {},
   "outputs": [],
   "source": [
    "def open_json(path):\n",
    "    with open(path) as json_data:\n",
    "        return js.load(json_data)\n",
    "    \n",
    "path = 'nobil_json/json_9.json'\n",
    "jsonFile = open_json(path)"
   ]
  },
  {
   "cell_type": "markdown",
   "metadata": {},
   "source": [
    "### First look at the variables in CSMD"
   ]
  },
  {
   "cell_type": "code",
   "execution_count": 3,
   "metadata": {},
   "outputs": [
    {
     "name": "stdout",
     "output_type": "stream",
     "text": [
      "csmd\n",
      "attr\n"
     ]
    }
   ],
   "source": [
    "for key in jsonFile['chargerstations'][1].keys():\n",
    "    print(key)"
   ]
  },
  {
   "cell_type": "code",
   "execution_count": 4,
   "metadata": {},
   "outputs": [
    {
     "data": {
      "text/plain": [
       "'SWE'"
      ]
     },
     "execution_count": 4,
     "metadata": {},
     "output_type": "execute_result"
    }
   ],
   "source": [
    "jsonFile['chargerstations'][1]['csmd']['Land_code']"
   ]
  },
  {
   "cell_type": "code",
   "execution_count": 5,
   "metadata": {},
   "outputs": [
    {
     "name": "stdout",
     "output_type": "stream",
     "text": [
      "id\n",
      "name\n",
      "ocpidb_mapping_stasjon_id\n",
      "Street\n",
      "House_number\n",
      "Zipcode\n",
      "City\n",
      "Municipality_ID\n",
      "Municipality\n",
      "County_ID\n",
      "County\n",
      "Description_of_location\n",
      "Owned_by\n",
      "Operator\n",
      "Number_charging_points\n",
      "Position\n",
      "Image\n",
      "Available_charging_points\n",
      "User_comment\n",
      "Contact_info\n",
      "Created\n",
      "Updated\n",
      "Station_status\n",
      "Land_code\n",
      "International_id\n"
     ]
    }
   ],
   "source": [
    "for key in jsonFile['chargerstations'][1]['csmd'].keys():\n",
    "    print(key)"
   ]
  },
  {
   "cell_type": "code",
   "execution_count": 6,
   "metadata": {},
   "outputs": [],
   "source": [
    "# From looking at the keys, we can identify these as interesting for the following assignment.\n",
    "importantKeysCSMD = ['id','Owned_by','Operator','Number_charging_points','Position','Contact_info','Land_code','International_id']"
   ]
  },
  {
   "cell_type": "markdown",
   "metadata": {},
   "source": [
    "### First look at the variables in ATTR"
   ]
  },
  {
   "cell_type": "code",
   "execution_count": 7,
   "metadata": {},
   "outputs": [
    {
     "data": {
      "text/plain": [
       "['st', 'conn']"
      ]
     },
     "execution_count": 7,
     "metadata": {},
     "output_type": "execute_result"
    }
   ],
   "source": [
    "station = jsonFile['chargerstations'][2]\n",
    "attr = station['attr']\n",
    "list(attr)"
   ]
  },
  {
   "cell_type": "markdown",
   "metadata": {},
   "source": [
    "#### First look at the variables in ATTR / st"
   ]
  },
  {
   "cell_type": "code",
   "execution_count": 8,
   "metadata": {},
   "outputs": [
    {
     "data": {
      "text/plain": [
       "['2', '3', '6', '7', '21', '22', '24']"
      ]
     },
     "execution_count": 8,
     "metadata": {},
     "output_type": "execute_result"
    }
   ],
   "source": [
    "list(attr['st'])"
   ]
  },
  {
   "cell_type": "code",
   "execution_count": 9,
   "metadata": {},
   "outputs": [
    {
     "data": {
      "text/plain": [
       "{'attrtypeid': '2',\n",
       " 'attrname': 'Availability',\n",
       " 'attrvalid': '1',\n",
       " 'trans': 'Public',\n",
       " 'attrval': ''}"
      ]
     },
     "execution_count": 9,
     "metadata": {},
     "output_type": "execute_result"
    }
   ],
   "source": [
    "attr['st']['2']"
   ]
  },
  {
   "cell_type": "code",
   "execution_count": 10,
   "metadata": {},
   "outputs": [
    {
     "data": {
      "text/plain": [
       "['Availability',\n",
       " 'Location',\n",
       " 'Time limit',\n",
       " 'Parking fee',\n",
       " 'Real-time information',\n",
       " 'Public funding',\n",
       " 'Open 24h']"
      ]
     },
     "execution_count": 10,
     "metadata": {},
     "output_type": "execute_result"
    }
   ],
   "source": [
    "st_keys = list(attr['st'])\n",
    "\n",
    "st_attr_names = [attr['st'][key]['attrname'] for key in st_keys]\n",
    "\n",
    "st_attr_names"
   ]
  },
  {
   "cell_type": "markdown",
   "metadata": {},
   "source": [
    "#### First look at ATTR / conn"
   ]
  },
  {
   "cell_type": "code",
   "execution_count": 11,
   "metadata": {},
   "outputs": [
    {
     "data": {
      "text/plain": [
       "['1', '2', '3', '4']"
      ]
     },
     "execution_count": 11,
     "metadata": {},
     "output_type": "execute_result"
    }
   ],
   "source": [
    "# Keys of the connector\n",
    "list(attr['conn'])"
   ]
  },
  {
   "cell_type": "markdown",
   "metadata": {},
   "source": [
    "Each of these are a connector. Lets further deep dive into what keys they each have."
   ]
  },
  {
   "cell_type": "code",
   "execution_count": 12,
   "metadata": {},
   "outputs": [
    {
     "data": {
      "text/plain": [
       "['1', '4', '5', '17', '18', '19', '20', '25', '26']"
      ]
     },
     "execution_count": 12,
     "metadata": {},
     "output_type": "execute_result"
    }
   ],
   "source": [
    "connector = attr['conn']['1']\n",
    "list(connector)"
   ]
  },
  {
   "cell_type": "code",
   "execution_count": 13,
   "metadata": {},
   "outputs": [
    {
     "data": {
      "text/plain": [
       "{'attrtypeid': '1',\n",
       " 'attrname': 'Accessibility',\n",
       " 'attrvalid': '6',\n",
       " 'trans': 'Cellular phone',\n",
       " 'attrval': ''}"
      ]
     },
     "execution_count": 13,
     "metadata": {},
     "output_type": "execute_result"
    }
   ],
   "source": [
    "connector['1']"
   ]
  },
  {
   "cell_type": "markdown",
   "metadata": {},
   "source": [
    "Like in the ATTR / st we have the name of the attribute under attrname, and the value under trans."
   ]
  }
 ],
 "metadata": {
  "kernelspec": {
   "display_name": "kth",
   "language": "python",
   "name": "python3"
  },
  "language_info": {
   "codemirror_mode": {
    "name": "ipython",
    "version": 3
   },
   "file_extension": ".py",
   "mimetype": "text/x-python",
   "name": "python",
   "nbconvert_exporter": "python",
   "pygments_lexer": "ipython3",
   "version": "3.10.4"
  },
  "orig_nbformat": 4
 },
 "nbformat": 4,
 "nbformat_minor": 2
}
